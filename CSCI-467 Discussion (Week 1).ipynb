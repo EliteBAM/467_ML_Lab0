{
 "cells": [
  {
   "cell_type": "markdown",
   "metadata": {},
   "source": [
    "## CSCI-467 Discussion (Week 1)"
   ]
  },
  {
   "cell_type": "markdown",
   "metadata": {},
   "source": [
    "### Rules"
   ]
  },
  {
   "cell_type": "markdown",
   "metadata": {},
   "source": [
    "1. Please read the instructions and problem prompts **carefully**.\n",
    "2. This lab is to give you some basic APIs of numpy, pandas and scikit-learn. The lab is to be done individually. You may talk to your fellow classmates about general issues (\"Remind me again: Which API should I used for doing group by operation to a data set\") but about the specifies of how to do these exercises.\n",
    "3. Along with a similar vein, you can ask the TA for help, but ask questions about **concepts** but not ask the TA to help you debug your code. The TA is here to help, but not to do the work for you.\n",
    "4. You are welcome to use the class resources and the Internet.\n",
    "5. Playing with variations. Solve one problems, and then copy the code to a new cell and play around with it. Doing this is the single most important thing when learning programming.\n",
    "6. This lab will not be graded but the content is highly related to your future programming assignments. So, treat it wisely.\n",
    "7. All the content having been gone though in the week 1 discussion is just a snapshot of the most basic concepts. **You need to keep study more about Git, GitHub, Pandas, Numpy and Scikit-Learn in order to finish your programming assignments successfully.**\n",
    "8. Have fun!"
   ]
  },
  {
   "cell_type": "markdown",
   "metadata": {},
   "source": [
    "### Setup Development Environment"
   ]
  },
  {
   "cell_type": "markdown",
   "metadata": {},
   "source": [
    "There are many ways to setup the environment. But, I do recommend a simple idea that is using the Anaconda, which is a pre-build python environment with bundles of useful packages.\n",
    "\n",
    "**To download the Anaconda, go to the following website:\n",
    "https://www.anaconda.com/distribution/**. Download the correct version based on your operating system and install it step by step.\n",
    "\n",
    "Then, **configure your PATH environment variable** to make the conda command work. The following command is an easy way to test whether your configuration is correct. If it is, you will see something as like as the sample output.\n",
    "\n",
    "> **command:**\n",
    ">\n",
    "> conda --version\n",
    ">\n",
    "> **sample output:**\n",
    ">\n",
    "> conda 4.6.12\n",
    "\n",
    "**Finally, download this jupyter notebook file,** then change the working directory to where its location in terminal, and type the following command to open the jupter notebook and finish the lab.\n",
    "\n",
    "> **command:** \n",
    "> jupyter notebook"
   ]
  },
  {
   "cell_type": "markdown",
   "metadata": {},
   "source": [
    "### Pandas"
   ]
  },
  {
   "cell_type": "markdown",
   "metadata": {},
   "source": [
    "#### The read_csv() Method"
   ]
  },
  {
   "cell_type": "markdown",
   "metadata": {},
   "source": [
    "First, read the documentation about the *read_csv()* method in Pandas (https://pandas.pydata.org/pandas-docs/stable/reference/api/pandas.read_csv.html). Then, try to read data from file Salaries.csv to a dataframe, make the column playerID in the csv file as the index column and the first row as the header. Also, skip the second row when reading the file."
   ]
  },
  {
   "cell_type": "code",
   "execution_count": 116,
   "metadata": {
    "scrolled": false
   },
   "outputs": [
    {
     "data": {
      "text/html": [
       "<div>\n",
       "<style scoped>\n",
       "    .dataframe tbody tr th:only-of-type {\n",
       "        vertical-align: middle;\n",
       "    }\n",
       "\n",
       "    .dataframe tbody tr th {\n",
       "        vertical-align: top;\n",
       "    }\n",
       "\n",
       "    .dataframe thead th {\n",
       "        text-align: right;\n",
       "    }\n",
       "</style>\n",
       "<table border=\"1\" class=\"dataframe\">\n",
       "  <thead>\n",
       "    <tr style=\"text-align: right;\">\n",
       "      <th></th>\n",
       "      <th>yearID</th>\n",
       "      <th>teamID</th>\n",
       "      <th>lgID</th>\n",
       "      <th>salary</th>\n",
       "    </tr>\n",
       "    <tr>\n",
       "      <th>playerID</th>\n",
       "      <th></th>\n",
       "      <th></th>\n",
       "      <th></th>\n",
       "      <th></th>\n",
       "    </tr>\n",
       "  </thead>\n",
       "  <tbody>\n",
       "    <tr>\n",
       "      <th>bedrost01</th>\n",
       "      <td>1985</td>\n",
       "      <td>ATL</td>\n",
       "      <td>NL</td>\n",
       "      <td>550000</td>\n",
       "    </tr>\n",
       "    <tr>\n",
       "      <th>benedbr01</th>\n",
       "      <td>1985</td>\n",
       "      <td>ATL</td>\n",
       "      <td>NL</td>\n",
       "      <td>545000</td>\n",
       "    </tr>\n",
       "    <tr>\n",
       "      <th>campri01</th>\n",
       "      <td>1985</td>\n",
       "      <td>ATL</td>\n",
       "      <td>NL</td>\n",
       "      <td>633333</td>\n",
       "    </tr>\n",
       "    <tr>\n",
       "      <th>ceronri01</th>\n",
       "      <td>1985</td>\n",
       "      <td>ATL</td>\n",
       "      <td>NL</td>\n",
       "      <td>625000</td>\n",
       "    </tr>\n",
       "    <tr>\n",
       "      <th>chambch01</th>\n",
       "      <td>1985</td>\n",
       "      <td>ATL</td>\n",
       "      <td>NL</td>\n",
       "      <td>800000</td>\n",
       "    </tr>\n",
       "  </tbody>\n",
       "</table>\n",
       "</div>"
      ],
      "text/plain": [
       "           yearID teamID lgID  salary\n",
       "playerID                             \n",
       "bedrost01    1985    ATL   NL  550000\n",
       "benedbr01    1985    ATL   NL  545000\n",
       "campri01     1985    ATL   NL  633333\n",
       "ceronri01    1985    ATL   NL  625000\n",
       "chambch01    1985    ATL   NL  800000"
      ]
     },
     "execution_count": 116,
     "metadata": {},
     "output_type": "execute_result"
    }
   ],
   "source": [
    "import pandas as ps\n",
    "df = ps.read_csv(\"salaries.csv\", header = 0, index_col = 3, skiprows = [1, 2])\n",
    "df.head() #to only pring the first 5 rows for neatness"
   ]
  },
  {
   "cell_type": "markdown",
   "metadata": {},
   "source": [
    "#### Indexing and Selecting Data"
   ]
  },
  {
   "cell_type": "markdown",
   "metadata": {},
   "source": [
    "Select the id of the players who are registered in ATL and HOU and whose salary is higher than one million."
   ]
  },
  {
   "cell_type": "code",
   "execution_count": 23,
   "metadata": {},
   "outputs": [
    {
     "data": {
      "text/plain": [
       "3315763.3897464117"
      ]
     },
     "execution_count": 23,
     "metadata": {},
     "output_type": "execute_result"
    }
   ],
   "source": [
    "df.loc[(df.teamID == 'ATL') | (df.teamID == 'HOU') & (df.salary > 1000000)]"
   ]
  },
  {
   "cell_type": "markdown",
   "metadata": {},
   "source": [
    "#### The describe() Method"
   ]
  },
  {
   "cell_type": "markdown",
   "metadata": {},
   "source": [
    "Calculate the standard Deviation, first quartile, medium, third quartile, mean, maximum, minimum of the salary in team ATL."
   ]
  },
  {
   "cell_type": "code",
   "execution_count": 87,
   "metadata": {},
   "outputs": [
    {
     "data": {
      "text/plain": [
       "std     3.434320e+06\n",
       "25%     3.000000e+05\n",
       "50%     6.000000e+05\n",
       "75%     2.400000e+06\n",
       "mean    2.207749e+06\n",
       "max     1.606180e+07\n",
       "min     6.000000e+04\n",
       "Name: salary, dtype: float64"
      ]
     },
     "execution_count": 87,
     "metadata": {},
     "output_type": "execute_result"
    }
   ],
   "source": [
    "df_atl = df.loc[(df.teamID == 'ATL')]\n",
    "df_atl.describe()['salary'][['std', '25%', '50%', '75%', 'mean', 'max', 'min']]"
   ]
  },
  {
   "cell_type": "markdown",
   "metadata": {},
   "source": [
    "#### The iterrows() Method"
   ]
  },
  {
   "cell_type": "markdown",
   "metadata": {},
   "source": [
    "Create a Python dictionary object whose keys are the headers of the dataframe created in the read_csv() exercise and values are Python list objects that contain data corresponding to the headers. (Here, use the iterrows method to iterate each row of the dataframe and copy it to a dictionary. However, there is a easier way. Learn how the to_dict() method works by yourself later)"
   ]
  },
  {
   "cell_type": "code",
   "execution_count": 153,
   "metadata": {},
   "outputs": [
    {
     "name": "stdout",
     "output_type": "stream",
     "text": [
      "{'yearID': playerID\n",
      "bedrost01    1985\n",
      "benedbr01    1985\n",
      "campri01     1985\n",
      "ceronri01    1985\n",
      "chambch01    1985\n",
      "             ... \n",
      "treinbl01    2015\n",
      "ugglada01    2015\n",
      "werthja01    2015\n",
      "zimmejo02    2015\n",
      "zimmery01    2015\n",
      "Name: yearID, Length: 25574, dtype: int64, 'teamID': playerID\n",
      "bedrost01    ATL\n",
      "benedbr01    ATL\n",
      "campri01     ATL\n",
      "ceronri01    ATL\n",
      "chambch01    ATL\n",
      "            ... \n",
      "treinbl01    WAS\n",
      "ugglada01    WAS\n",
      "werthja01    WAS\n",
      "zimmejo02    WAS\n",
      "zimmery01    WAS\n",
      "Name: teamID, Length: 25574, dtype: object, 'lgID': playerID\n",
      "bedrost01    NL\n",
      "benedbr01    NL\n",
      "campri01     NL\n",
      "ceronri01    NL\n",
      "chambch01    NL\n",
      "             ..\n",
      "treinbl01    NL\n",
      "ugglada01    NL\n",
      "werthja01    NL\n",
      "zimmejo02    NL\n",
      "zimmery01    NL\n",
      "Name: lgID, Length: 25574, dtype: object, 'salary': playerID\n",
      "bedrost01      550000\n",
      "benedbr01      545000\n",
      "campri01       633333\n",
      "ceronri01      625000\n",
      "chambch01      800000\n",
      "               ...   \n",
      "treinbl01      512800\n",
      "ugglada01      507500\n",
      "werthja01    21000000\n",
      "zimmejo02    16500000\n",
      "zimmery01    14000000\n",
      "Name: salary, Length: 25574, dtype: int64}\n"
     ]
    }
   ],
   "source": [
    "import numpy as np\n",
    "\n",
    "mydata_dict = {}\n",
    "for i, r in df.iteritems():\n",
    "    mydata_dict[i] = r\n",
    "    \n",
    "#print(mydata_dict.keys())\n",
    "#print(mydata_dict.values())\n",
    "print(mydata_dict)\n",
    "\n",
    "#things that make think I did this wrong... \n",
    "#one: playerID is skipped as a header and included as part of data because it was set as the index column\n",
    "#two: playerID data is included in value data, seems helpful but maybe not what is asked for here?"
   ]
  },
  {
   "cell_type": "markdown",
   "metadata": {},
   "source": [
    "#### Create Dataframe Using the Constructor"
   ]
  },
  {
   "cell_type": "markdown",
   "metadata": {
    "ExecuteTime": {
     "end_time": "2019-08-24T15:53:45.113577Z",
     "start_time": "2019-08-24T15:53:45.110554Z"
    }
   },
   "source": [
    "Read the documentation: https://pandas.pydata.org/pandas-docs/stable/reference/api/pandas.DataFrame.html#pandas.DataFrame and create a dataframe using pd.DataFrame from the dictionary created in the iterrows() exercise. Change the header to \"a\", \"b\", \"c\", ... at creation time."
   ]
  },
  {
   "cell_type": "code",
   "execution_count": 182,
   "metadata": {},
   "outputs": [
    {
     "data": {
      "text/html": [
       "<div>\n",
       "<style scoped>\n",
       "    .dataframe tbody tr th:only-of-type {\n",
       "        vertical-align: middle;\n",
       "    }\n",
       "\n",
       "    .dataframe tbody tr th {\n",
       "        vertical-align: top;\n",
       "    }\n",
       "\n",
       "    .dataframe thead th {\n",
       "        text-align: right;\n",
       "    }\n",
       "</style>\n",
       "<table border=\"1\" class=\"dataframe\">\n",
       "  <thead>\n",
       "    <tr style=\"text-align: right;\">\n",
       "      <th></th>\n",
       "      <th>a</th>\n",
       "      <th>b</th>\n",
       "      <th>c</th>\n",
       "      <th>d</th>\n",
       "    </tr>\n",
       "    <tr>\n",
       "      <th>playerID</th>\n",
       "      <th></th>\n",
       "      <th></th>\n",
       "      <th></th>\n",
       "      <th></th>\n",
       "    </tr>\n",
       "  </thead>\n",
       "  <tbody>\n",
       "    <tr>\n",
       "      <th>bedrost01</th>\n",
       "      <td>1985</td>\n",
       "      <td>ATL</td>\n",
       "      <td>NL</td>\n",
       "      <td>550000</td>\n",
       "    </tr>\n",
       "    <tr>\n",
       "      <th>benedbr01</th>\n",
       "      <td>1985</td>\n",
       "      <td>ATL</td>\n",
       "      <td>NL</td>\n",
       "      <td>545000</td>\n",
       "    </tr>\n",
       "    <tr>\n",
       "      <th>campri01</th>\n",
       "      <td>1985</td>\n",
       "      <td>ATL</td>\n",
       "      <td>NL</td>\n",
       "      <td>633333</td>\n",
       "    </tr>\n",
       "    <tr>\n",
       "      <th>ceronri01</th>\n",
       "      <td>1985</td>\n",
       "      <td>ATL</td>\n",
       "      <td>NL</td>\n",
       "      <td>625000</td>\n",
       "    </tr>\n",
       "    <tr>\n",
       "      <th>chambch01</th>\n",
       "      <td>1985</td>\n",
       "      <td>ATL</td>\n",
       "      <td>NL</td>\n",
       "      <td>800000</td>\n",
       "    </tr>\n",
       "    <tr>\n",
       "      <th>...</th>\n",
       "      <td>...</td>\n",
       "      <td>...</td>\n",
       "      <td>...</td>\n",
       "      <td>...</td>\n",
       "    </tr>\n",
       "    <tr>\n",
       "      <th>treinbl01</th>\n",
       "      <td>2015</td>\n",
       "      <td>WAS</td>\n",
       "      <td>NL</td>\n",
       "      <td>512800</td>\n",
       "    </tr>\n",
       "    <tr>\n",
       "      <th>ugglada01</th>\n",
       "      <td>2015</td>\n",
       "      <td>WAS</td>\n",
       "      <td>NL</td>\n",
       "      <td>507500</td>\n",
       "    </tr>\n",
       "    <tr>\n",
       "      <th>werthja01</th>\n",
       "      <td>2015</td>\n",
       "      <td>WAS</td>\n",
       "      <td>NL</td>\n",
       "      <td>21000000</td>\n",
       "    </tr>\n",
       "    <tr>\n",
       "      <th>zimmejo02</th>\n",
       "      <td>2015</td>\n",
       "      <td>WAS</td>\n",
       "      <td>NL</td>\n",
       "      <td>16500000</td>\n",
       "    </tr>\n",
       "    <tr>\n",
       "      <th>zimmery01</th>\n",
       "      <td>2015</td>\n",
       "      <td>WAS</td>\n",
       "      <td>NL</td>\n",
       "      <td>14000000</td>\n",
       "    </tr>\n",
       "  </tbody>\n",
       "</table>\n",
       "<p>25574 rows × 4 columns</p>\n",
       "</div>"
      ],
      "text/plain": [
       "              a    b   c         d\n",
       "playerID                          \n",
       "bedrost01  1985  ATL  NL    550000\n",
       "benedbr01  1985  ATL  NL    545000\n",
       "campri01   1985  ATL  NL    633333\n",
       "ceronri01  1985  ATL  NL    625000\n",
       "chambch01  1985  ATL  NL    800000\n",
       "...         ...  ...  ..       ...\n",
       "treinbl01  2015  WAS  NL    512800\n",
       "ugglada01  2015  WAS  NL    507500\n",
       "werthja01  2015  WAS  NL  21000000\n",
       "zimmejo02  2015  WAS  NL  16500000\n",
       "zimmery01  2015  WAS  NL  14000000\n",
       "\n",
       "[25574 rows x 4 columns]"
      ]
     },
     "execution_count": 182,
     "metadata": {},
     "output_type": "execute_result"
    }
   ],
   "source": [
    "new_data = ps.DataFrame(mydata_dict).rename(columns={'yearID': 'a', 'teamID': 'b', 'lgID': 'c', 'salary': 'd'})\n",
    "new_data"
   ]
  },
  {
   "cell_type": "markdown",
   "metadata": {},
   "source": [
    "### Numpy"
   ]
  },
  {
   "cell_type": "markdown",
   "metadata": {},
   "source": [
    "Quick start: https://www.numpy.org/devdocs/user/quickstart.html\n",
    "\n",
    "Numpy axes explaination: https://www.sharpsightlabs.com/blog/numpy-axes-explained/"
   ]
  },
  {
   "cell_type": "markdown",
   "metadata": {},
   "source": [
    "#### The np.array Method"
   ]
  },
  {
   "cell_type": "markdown",
   "metadata": {},
   "source": [
    "Example 1:\n",
    "\n",
    "```python\n",
    "ls = [1, 2, 3]\n",
    "arr = np.array(ls)\n",
    "```\n",
    "\n",
    "Example 2:\n",
    "```python\n",
    ">>> np.array([[1, 2], [3, 4]])\n",
    "array([[1, 2],\n",
    "       [3, 4]])\n",
    "```"
   ]
  },
  {
   "cell_type": "markdown",
   "metadata": {},
   "source": [
    "Now, create a 2-dimensional Python list object, then convert it to a Numpy array object."
   ]
  },
  {
   "cell_type": "code",
   "execution_count": 191,
   "metadata": {},
   "outputs": [
    {
     "ename": "AttributeError",
     "evalue": "'list' object has no attribute 'ndim'",
     "output_type": "error",
     "traceback": [
      "\u001b[1;31m---------------------------------------------------------------------------\u001b[0m",
      "\u001b[1;31mAttributeError\u001b[0m                            Traceback (most recent call last)",
      "\u001b[1;32m<ipython-input-191-3e52362010ee>\u001b[0m in \u001b[0;36m<module>\u001b[1;34m\u001b[0m\n\u001b[0;32m      2\u001b[0m           ['B', 'b']])\n\u001b[0;32m      3\u001b[0m \u001b[0mnparray\u001b[0m \u001b[1;33m=\u001b[0m \u001b[0mnp\u001b[0m\u001b[1;33m.\u001b[0m\u001b[0marray\u001b[0m\u001b[1;33m(\u001b[0m\u001b[0mmylist\u001b[0m\u001b[1;33m)\u001b[0m\u001b[1;33m\u001b[0m\u001b[1;33m\u001b[0m\u001b[0m\n\u001b[1;32m----> 4\u001b[1;33m \u001b[0mmylist\u001b[0m\u001b[1;33m.\u001b[0m\u001b[0mndim\u001b[0m\u001b[1;33m\u001b[0m\u001b[1;33m\u001b[0m\u001b[0m\n\u001b[0m\u001b[0;32m      5\u001b[0m \u001b[0mprint\u001b[0m\u001b[1;33m(\u001b[0m\u001b[0mnparray\u001b[0m\u001b[1;33m)\u001b[0m\u001b[1;33m\u001b[0m\u001b[1;33m\u001b[0m\u001b[0m\n",
      "\u001b[1;31mAttributeError\u001b[0m: 'list' object has no attribute 'ndim'"
     ]
    }
   ],
   "source": [
    "mylist = ([['A', 'a'], \n",
    "          ['B', 'b']])\n",
    "nparray = np.array(mylist)\n",
    "print(nparray)"
   ]
  },
  {
   "cell_type": "markdown",
   "metadata": {},
   "source": [
    "#### ndarray Objects' Attributes"
   ]
  },
  {
   "cell_type": "markdown",
   "metadata": {},
   "source": [
    "Play with the **ndim, shape, size, dtype, itemsize and data** attribute.\n",
    "\n",
    "Example:\n",
    "\n",
    "```python\n",
    ">>> arr = np.array([[1, 2], [3, 4]])\n",
    ">>> arr.ndim\n",
    "2\n",
    "```"
   ]
  },
  {
   "cell_type": "code",
   "execution_count": 193,
   "metadata": {},
   "outputs": [
    {
     "name": "stdout",
     "output_type": "stream",
     "text": [
      "the number of array dimensions:\n",
      "2\n",
      "array dimensions shown in tuple data type:\n",
      "(2, 2)\n",
      "shows data type of array elements, in this case unicode with a bit length of 1:\n",
      "<U1\n",
      "shows number of elements in array:\n",
      "4\n",
      "points to start of array's data:\n",
      "<memory at 0x0000013151B81040>\n"
     ]
    }
   ],
   "source": [
    "print('the number of array dimensions:')\n",
    "print(nparray.ndim)\n",
    "print('array dimensions shown in tuple data type:')\n",
    "print(nparray.shape)\n",
    "print('shows data type of array elements, in this case unicode with a bit length of 1:')\n",
    "print(nparray.dtype)\n",
    "print('shows number of elements in array:')\n",
    "print(nparray.itemsize)\n",
    "print('points to start of array\\'s data:')\n",
    "print(nparray.data)"
   ]
  },
  {
   "cell_type": "markdown",
   "metadata": {},
   "source": [
    "#### Dimension of ndarray Ojects"
   ]
  },
  {
   "cell_type": "markdown",
   "metadata": {},
   "source": [
    "Play with the reshape() and flatten() method.\n",
    "\n",
    "Example:\n",
    "```python\n",
    ">>> arr = np.array([[1, 2], [3, 4]])\n",
    ">>> arr.flatten()\n",
    "array([1, 2, 3, 4])\n",
    "```"
   ]
  },
  {
   "cell_type": "code",
   "execution_count": 211,
   "metadata": {},
   "outputs": [
    {
     "name": "stdout",
     "output_type": "stream",
     "text": [
      "[['A' 'a' 'B' 'b']]\n",
      "\n",
      "['A' 'a' 'B' 'b']\n",
      "\n",
      "[['A']\n",
      " ['a']\n",
      " ['B']\n",
      " ['b']]\n",
      "\n"
     ]
    }
   ],
   "source": [
    "arr = nparray.reshape(1,4) ##reshaping to a height of 1 row and width of 4 columns, essentially flattening\n",
    "print(arr)\n",
    "print()\n",
    "arr2 = nparray.flatten() ##flatten method reduces to 1 dimension\n",
    "print(arr2)\n",
    "print()\n",
    "arr3 = nparray.reshape(4,1) ##reshaping array data to a single column and 4 rows\n",
    "print(arr3)\n",
    "print()"
   ]
  },
  {
   "cell_type": "markdown",
   "metadata": {},
   "source": [
    "#### The Slice Operation of ndarray Objects"
   ]
  },
  {
   "cell_type": "markdown",
   "metadata": {},
   "source": [
    "Understand how the slice operation works for 1-D array and 2-D array.\n",
    "\n",
    "Example:\n",
    "\n",
    "```python\n",
    ">>> arr = np.array([[1, 2, 3], [3, 4, 6], [7, 8, 9]])\n",
    ">>> arr[1:]\n",
    "array([[3, 4, 6],\n",
    "       [7, 8, 9]])\n",
    ">>> arr[1:, 0:2]\n",
    "array([[3, 4],\n",
    "       [7, 8]])\n",
    "```"
   ]
  },
  {
   "cell_type": "code",
   "execution_count": 227,
   "metadata": {},
   "outputs": [
    {
     "name": "stdout",
     "output_type": "stream",
     "text": [
      "[[9]]\n",
      "\n",
      "[[4 6]\n",
      " [8 9]]\n",
      "\n",
      "[[1 2]\n",
      " [3 4]]\n",
      "\n",
      "[[4]]\n",
      "\n"
     ]
    }
   ],
   "source": [
    "newarr = np.array([[1, 2, 3], \n",
    "                   [3, 4, 6], \n",
    "                   [7, 8, 9]])\n",
    "subarr = newarr[2:, 2:]   ##slices array to begin on index 2 on both axes. This results in subarr being the bottom right element\n",
    "print(subarr)\n",
    "print()\n",
    "\n",
    "subarr = newarr[1:, 1:]   ##here the array slices indices 0 on both axes\n",
    "print(subarr)\n",
    "print()\n",
    "\n",
    "subarr = newarr[:2, :2]   ##here, we omit anything in index 2 on both axes\n",
    "print(subarr)\n",
    "print()\n",
    "\n",
    "subarr = newarr[1:2, 1:2] ##here we say to start the sub array only on index 1 on both axes, then cut off \n",
    "print(subarr)             ##the array starting at index 2, so the subarray holds only the middle element of this array\n",
    "print()"
   ]
  },
  {
   "cell_type": "markdown",
   "metadata": {},
   "source": [
    "## The Calculation of ndarray Objects"
   ]
  },
  {
   "cell_type": "markdown",
   "metadata": {},
   "source": [
    "Play with the **argmin(), argmax(), min(), max(), mean(), sum(), std(), dot(), square(), sqrt(), abs(). exp(), sign(), mod()** method.\n",
    "\n",
    "Example:\n",
    "\n",
    "```python\n",
    ">>> np.square(array)\n",
    "array([[ 1,  4,  9],\n",
    "       [ 9, 16, 36],\n",
    "       [49, 64, 81]])\n",
    "\n",
    "```"
   ]
  },
  {
   "cell_type": "code",
   "execution_count": 291,
   "metadata": {},
   "outputs": [
    {
     "name": "stdout",
     "output_type": "stream",
     "text": [
      "[0 2 0]\n",
      "\n",
      "[1 0 2]\n",
      "\n",
      "0\n",
      "[1 4 0]\n",
      "\n",
      "81\n",
      "\n",
      "[ 4.  3. 42.]\n",
      "\n",
      "[15 49 83]\n",
      "\n",
      "[ 3.26598632 14.05544576 37.72119946]\n",
      "\n",
      "[[  -26    34  -900]\n",
      " [   45    97 -2979]\n",
      " [  164    91 -6543]]\n",
      "\n",
      "[[   1   25   81]\n",
      " [  81   16 1296]\n",
      " [   4    0 6561]]\n",
      "\n",
      "[[1.         2.23606798 3.        ]\n",
      " [3.         2.         6.        ]\n",
      " [1.41421356 0.         9.        ]]\n",
      "\n",
      "[[ 1  5  9]\n",
      " [ 9  4 36]\n",
      " [ 2  1 81]]\n",
      "\n",
      "[[2.71828183e+00 1.48413159e+02 8.10308393e+03]\n",
      " [8.10308393e+03 5.45981500e+01 4.31123155e+15]\n",
      " [7.38905610e+00 1.00000000e+00 1.50609731e+35]]\n",
      "\n",
      "[[ 1  1  1]\n",
      " [-1  1 -1]\n",
      " [ 1  1 -1]]\n",
      "\n",
      "[[0 0 0]\n",
      " [0 0 0]\n",
      " [0 0 0]]\n"
     ]
    }
   ],
   "source": [
    "a = np.array([[ 1, 5,  9],\n",
    "              [ 9, 4, 36],\n",
    "              [ 2, 0, 81]])\n",
    "b = np.array([[ 1, 5,  9],\n",
    "              [ -9, 4, -36],\n",
    "              [ 2, 1, -81]])\n",
    "\n",
    "print(np.argmin(a, axis = 0)) ##returns the index of the minimum value found the axis.\n",
    "                              ## axis 0 goes down the columns, axis 1 goes down the rows\n",
    "                              ##here the minimum values are in index 0 of the first and last colums, but index 1 for the center\n",
    "print()\n",
    "print(np.argmax(a, axis = 0)) ##argmax is the same as argmin but returns the highest value.\n",
    "                              ##here the highest value in column index 1 is 5, at the top, or row index 0\n",
    "print()\n",
    "print(np.amin(a))             ##returns the minimum value of the whole array\n",
    "print(np.amin(a, axis = 1))   ##where argmin returns an index, amin returns the element values, also can be called with an axis\n",
    "print()\n",
    "print(np.amax(a))             ##same as amin, but returns highest element\n",
    "print()\n",
    "print(np.mean(a, axis = 0))   ##computes the mean along a specified axis\n",
    "print()\n",
    "print(np.sum(a, axis = 1))    ##computes the sum along a specified axis\n",
    "print()\n",
    "print(np.std(a, axis = 1))    ##computes the standard deviation along a specified axis\n",
    "print()\n",
    "print(np.dot(a, b))           ##computes dot product between two arrays\n",
    "print()\n",
    "print(np.square(a))           ##returns the element-wise squares of the array\n",
    "print()\n",
    "print(np.sqrt(a))             ##returns the element-wise square root of the array (non-negative)\n",
    "print()\n",
    "print(np.abs(b))              ##returns the element-wise absolute value of the array (non-negative)\n",
    "print()\n",
    "print(np.exp(a))              ##calculates the exponential of elements in the array\n",
    "print()\n",
    "print(np.sign(b))             ##returns the sign of the number 1 if positive, -1 if negative, 0 if 0\n",
    "print()\n",
    "print(np.mod(a, b))           ## returns the element-wise remaindors of division between two arrays\n"
   ]
  },
  {
   "cell_type": "markdown",
   "metadata": {},
   "source": [
    "#### Other Important Methods Inside Module Numpy"
   ]
  },
  {
   "cell_type": "markdown",
   "metadata": {},
   "source": [
    "Play with the arange(), ones(), zeros(), eye(), linspace(), concatenate() method.\n",
    "\n",
    "Example:\n",
    "\n",
    "```python\n",
    ">>> np.eye(3)\n",
    "array([[1., 0., 0.],\n",
    "       [0., 1., 0.],\n",
    "       [0., 0., 1.]])\n",
    "```"
   ]
  },
  {
   "cell_type": "code",
   "execution_count": 328,
   "metadata": {},
   "outputs": [
    {
     "name": "stdout",
     "output_type": "stream",
     "text": [
      "[1 2 3 4 5 6 7 8 9]\n",
      "\n",
      "[[1. 1. 1. 1. 1. 1. 1. 1.]\n",
      " [1. 1. 1. 1. 1. 1. 1. 1.]\n",
      " [1. 1. 1. 1. 1. 1. 1. 1.]\n",
      " [1. 1. 1. 1. 1. 1. 1. 1.]]\n",
      "\n",
      "[[0. 0. 0. 0. 0. 0. 0. 0.]\n",
      " [0. 0. 0. 0. 0. 0. 0. 0.]\n",
      " [0. 0. 0. 0. 0. 0. 0. 0.]\n",
      " [0. 0. 0. 0. 0. 0. 0. 0.]]\n",
      "\n",
      "[  7.   29.5  52.   74.5  97.  119.5 142. ]\n",
      "\n",
      "[[  1   5   9   1   5   9]\n",
      " [  9   4  36  -9   4 -36]\n",
      " [  2   0  81   2   1 -81]]\n"
     ]
    }
   ],
   "source": [
    "print(np.arange(1, 10))                  ##returns a half open range between values\n",
    "print()\n",
    "print(np.ones((4, 8)))                   ##returns an array of a given shape and type filled with ones!\n",
    "print()\n",
    "print(np.zeros((4, 8)))                  ##zeros!\n",
    "print()\n",
    "print(np.linspace(7, 142, 7))            ##returns evenly spaced numbers in a given interval with a given range!\n",
    "print()\n",
    "print(np.concatenate((a, b), axis = 1))  ##concatenate two different arrays along an axis!\n"
   ]
  },
  {
   "cell_type": "markdown",
   "metadata": {},
   "source": [
    "### Scikit-Learn"
   ]
  },
  {
   "cell_type": "markdown",
   "metadata": {},
   "source": [
    "The followings are packages (or methods) in Python (Scikit-Learn and Scipy) that will be frequently used in your programming assignment. So, please read carefully.\n",
    "\n",
    "- Data Preprocessing (https://scikit-learn.org/stable/modules/classes.html#module-sklearn.preprocessing)\n",
    "    - Standardization: StandardScaler\n",
    "    - Normalization: MinMaxScaler\n",
    "    - Quantifing Categorical Features: LabelEncoder. OneHotEncoder\n",
    "    - Construct Train and Test Set: model_selection.train_test_split\n",
    "- KNN: KNeighborsClassifier\n",
    "- Linear Regression: LinearRegression\n",
    "- Logistic Regression: LogisticRegression, LogisticRegressionCV\n",
    "- Feature Selection / Model Selection\n",
    "    - L1 Penalized Regression (Lasso Regression) with Cross-Validation: LassoCV\n",
    "    - L2 Penalized Regression (Ridge Regression) with Cross-Validation: RidgeCV\n",
    "    - Cross-Validation: StratifiedKFold, RepeatedKFold, LeaveOneOut, KFold, model_selection.cross_validate, model_selection.cross_val_predict, model_selection.cross_val_score\n",
    "    - Model Metrics (https://scikit-learn.org/stable/modules/classes.html#sklearn-metrics-metrics): accuracy_score, auc, f1_score, hamming_loss, precision_score, recall_score, roc_auc_score\n",
    "- Decision Tree: DecisionTreeClassifier, DecisionTreeRegressor\n",
    "- Bootstrap, Ensemble Methods\n",
    "    - Bootstrap: bootstrapped (https://pypi.org/project/bootstrapped/)\n",
    "    - Bagging: RandomForestClassifier, RandomForestRegressor\n",
    "    - Boosting: AdaBoostClassifier, AdaBoostRegressor\n",
    "- Support Vector Machines (https://scikit-learn.org/stable/modules/svm.html#svm): LinearSVC, LinearSVR\n",
    "- Multiclass and Multilabel Classification (https://scikit-learn.org/stable/modules/classes.html#module-sklearn.multiclass)\n",
    "    - One-vs-one Multiclass Strategy: OneVsOneClassifier\n",
    "    - One-vs-the-rest (OvR) multiclass/multilabel strategy / OneVsRestClassifier\n",
    "- Unsupervised Learning\n",
    "    - K-means Clustering: KMeans\n",
    "    - Hierarchical Clustering: scipy.cluster.hierarchy (not scikit-learn)\n",
    "- Semisupervised Learning (https://scikit-learn.org/stable/modules/label_propagation.html)"
   ]
  },
  {
   "cell_type": "markdown",
   "metadata": {},
   "source": [
    "### Git and GitHub"
   ]
  },
  {
   "cell_type": "markdown",
   "metadata": {},
   "source": [
    "1. In the directory that where this jupyter notebook file locates in, init a Git repository.\n",
    "2. Checkout a new branch called dev and commit the current notebook within this branch.\n",
    "3. Merge the dev branch to the master branch (the default branch).\n",
    "4. Create a temporary repository (just for practicing and you can delete it later) in GitHub. \n",
    "5. Push new changes in the master branch to the remote repository created in step 4.\n",
    "6. Checkout the dev branch again and do some changes to your notebook, and then repeat step 3 and step 5."
   ]
  }
 ],
 "metadata": {
  "kernelspec": {
   "display_name": "Python 3",
   "language": "python",
   "name": "python3"
  },
  "language_info": {
   "codemirror_mode": {
    "name": "ipython",
    "version": 3
   },
   "file_extension": ".py",
   "mimetype": "text/x-python",
   "name": "python",
   "nbconvert_exporter": "python",
   "pygments_lexer": "ipython3",
   "version": "3.8.8"
  },
  "toc": {
   "base_numbering": 1,
   "nav_menu": {},
   "number_sections": true,
   "sideBar": true,
   "skip_h1_title": false,
   "title_cell": "Table of Contents",
   "title_sidebar": "Contents",
   "toc_cell": false,
   "toc_position": {
    "height": "calc(100% - 180px)",
    "left": "10px",
    "top": "150px",
    "width": "294.435px"
   },
   "toc_section_display": true,
   "toc_window_display": true
  }
 },
 "nbformat": 4,
 "nbformat_minor": 2
}
